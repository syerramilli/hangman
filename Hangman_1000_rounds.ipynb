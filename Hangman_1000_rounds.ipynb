{
 "cells": [
  {
   "cell_type": "code",
   "execution_count": 1,
   "metadata": {},
   "outputs": [],
   "source": [
    "import random\n",
    "import numpy as np\n",
    "from sklearn.model_selection import train_test_split\n",
    "from hangman_sim import HangmanSimulator\n",
    "from lstm_solver import HangmanLSTMSolver\n",
    "from tqdm import tqdm\n",
    "import toml"
   ]
  },
  {
   "cell_type": "code",
   "execution_count": 2,
   "metadata": {},
   "outputs": [
    {
     "name": "stdout",
     "output_type": "stream",
     "text": [
      "Number of words in training dictionary...: 187500\n",
      "Number of words in test dictionary.......: 46875\n"
     ]
    }
   ],
   "source": [
    "config = toml.load('lstm_config.toml')\n",
    "\n",
    "FILE = config[\"vocab\"][\"file\"]\n",
    "SPLIT_RATIO = config[\"vocab\"][\"split_ratio\"]\n",
    "SPLIT_DICTIONARY = config[\"vocab\"][\"split_dictionary\"]\n",
    "\n",
    "with open(FILE) as f:\n",
    "    dictionary = f.read().splitlines()\n",
    "\n",
    "if SPLIT_DICTIONARY:\n",
    "    train_dictionary, test_dictionary = train_test_split(dictionary, train_size=SPLIT_RATIO, random_state=42)\n",
    "else:\n",
    "    train_dictionary = dictionary\n",
    "    test_dictionary = dictionary\n",
    "\n",
    "print(f'Number of words in training dictionary...: {len(train_dictionary)}')\n",
    "print(f'Number of words in test dictionary.......: {len(test_dictionary)}')"
   ]
  },
  {
   "cell_type": "code",
   "execution_count": 4,
   "metadata": {},
   "outputs": [
    {
     "name": "stderr",
     "output_type": "stream",
     "text": [
      "100%|██████████| 1000/1000 [00:12<00:00, 77.20it/s]"
     ]
    },
    {
     "name": "stdout",
     "output_type": "stream",
     "text": [
      "Success rate: 56.10\n"
     ]
    },
    {
     "name": "stderr",
     "output_type": "stream",
     "text": [
      "\n"
     ]
    }
   ],
   "source": [
    "random.seed(2)\n",
    "simulator = HangmanSimulator(dictionary=test_dictionary)\n",
    "api = HangmanLSTMSolver(\n",
    "    simulator, train_dictionary, 'lstm_config.toml',\n",
    ")\n",
    "\n",
    "N_GAMES = 1000\n",
    "N_SUCCESS = 0\n",
    "\n",
    "for _ in tqdm(range(N_GAMES)):\n",
    "    success_flag = api.play_the_game(verbose=False)\n",
    "    if success_flag['status'] == 'success':\n",
    "        N_SUCCESS += 1\n",
    "\n",
    "print(f'Success rate: {N_SUCCESS / N_GAMES * 100:.2f}')"
   ]
  }
 ],
 "metadata": {
  "kernelspec": {
   "display_name": ".venv",
   "language": "python",
   "name": "python3"
  },
  "language_info": {
   "codemirror_mode": {
    "name": "ipython",
    "version": 3
   },
   "file_extension": ".py",
   "mimetype": "text/x-python",
   "name": "python",
   "nbconvert_exporter": "python",
   "pygments_lexer": "ipython3",
   "version": "3.11.6"
  }
 },
 "nbformat": 4,
 "nbformat_minor": 2
}
